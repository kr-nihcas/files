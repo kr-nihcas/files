{
  "nbformat": 4,
  "nbformat_minor": 0,
  "metadata": {
    "colab": {
      "name": "Image classification Minor project.ipynb",
      "provenance": [],
      "authorship_tag": "ABX9TyOE6dre4jKsp5TCBcdPfbUY",
      "include_colab_link": true
    },
    "kernelspec": {
      "display_name": "Python 3",
      "name": "python3"
    },
    "language_info": {
      "name": "python"
    }
  },
  "cells": [
    {
      "cell_type": "markdown",
      "metadata": {
        "id": "view-in-github",
        "colab_type": "text"
      },
      "source": [
        "<a href=\"https://colab.research.google.com/github/kr-nihcas/files/blob/main/Image_classification_Minor_project.ipynb\" target=\"_parent\"><img src=\"https://colab.research.google.com/assets/colab-badge.svg\" alt=\"Open In Colab\"/></a>"
      ]
    },
    {
      "cell_type": "code",
      "metadata": {
        "colab": {
          "base_uri": "https://localhost:8080/"
        },
        "id": "7rhW_MrYIiC6",
        "outputId": "bea509e1-963c-42bc-cbd8-153cafbab460"
      },
      "source": [
        " !pip install ipython-autotime\n",
        "%load_ext autotime"
      ],
      "execution_count": 6,
      "outputs": [
        {
          "output_type": "stream",
          "text": [
            "Requirement already satisfied: ipython-autotime in /usr/local/lib/python3.7/dist-packages (0.3.1)\n",
            "Requirement already satisfied: ipython in /usr/local/lib/python3.7/dist-packages (from ipython-autotime) (5.5.0)\n",
            "Requirement already satisfied: prompt-toolkit<2.0.0,>=1.0.4 in /usr/local/lib/python3.7/dist-packages (from ipython->ipython-autotime) (1.0.18)\n",
            "Requirement already satisfied: decorator in /usr/local/lib/python3.7/dist-packages (from ipython->ipython-autotime) (4.4.2)\n",
            "Requirement already satisfied: setuptools>=18.5 in /usr/local/lib/python3.7/dist-packages (from ipython->ipython-autotime) (57.0.0)\n",
            "Requirement already satisfied: pygments in /usr/local/lib/python3.7/dist-packages (from ipython->ipython-autotime) (2.6.1)\n",
            "Requirement already satisfied: pickleshare in /usr/local/lib/python3.7/dist-packages (from ipython->ipython-autotime) (0.7.5)\n",
            "Requirement already satisfied: pexpect; sys_platform != \"win32\" in /usr/local/lib/python3.7/dist-packages (from ipython->ipython-autotime) (4.8.0)\n",
            "Requirement already satisfied: traitlets>=4.2 in /usr/local/lib/python3.7/dist-packages (from ipython->ipython-autotime) (5.0.5)\n",
            "Requirement already satisfied: simplegeneric>0.8 in /usr/local/lib/python3.7/dist-packages (from ipython->ipython-autotime) (0.8.1)\n",
            "Requirement already satisfied: six>=1.9.0 in /usr/local/lib/python3.7/dist-packages (from prompt-toolkit<2.0.0,>=1.0.4->ipython->ipython-autotime) (1.15.0)\n",
            "Requirement already satisfied: wcwidth in /usr/local/lib/python3.7/dist-packages (from prompt-toolkit<2.0.0,>=1.0.4->ipython->ipython-autotime) (0.2.5)\n",
            "Requirement already satisfied: ptyprocess>=0.5 in /usr/local/lib/python3.7/dist-packages (from pexpect; sys_platform != \"win32\"->ipython->ipython-autotime) (0.7.0)\n",
            "Requirement already satisfied: ipython-genutils in /usr/local/lib/python3.7/dist-packages (from traitlets>=4.2->ipython->ipython-autotime) (0.2.0)\n",
            "The autotime extension is already loaded. To reload it, use:\n",
            "  %reload_ext autotime\n",
            "time: 2.74 s (started: 2021-06-19 17:59:13 +00:00)\n"
          ],
          "name": "stdout"
        }
      ]
    },
    {
      "cell_type": "code",
      "metadata": {
        "colab": {
          "base_uri": "https://localhost:8080/"
        },
        "id": "Rg8m1vF7JKhK",
        "outputId": "30e50e08-729b-4cca-9290-86b9a52d7803"
      },
      "source": [
        "!pip install bing_image_downloader"
      ],
      "execution_count": 7,
      "outputs": [
        {
          "output_type": "stream",
          "text": [
            "Requirement already satisfied: bing_image_downloader in /usr/local/lib/python3.7/dist-packages (1.1.0)\n",
            "time: 2.74 s (started: 2021-06-19 17:59:15 +00:00)\n"
          ],
          "name": "stdout"
        }
      ]
    },
    {
      "cell_type": "code",
      "metadata": {
        "colab": {
          "base_uri": "https://localhost:8080/"
        },
        "id": "wOIuEb41GCpZ",
        "outputId": "0c5b96dc-0c8b-4fca-b40d-d6f7a2aa1b50"
      },
      "source": [
        "!mkdir datasets"
      ],
      "execution_count": 8,
      "outputs": [
        {
          "output_type": "stream",
          "text": [
            "mkdir: cannot create directory ‘datasets’: File exists\n",
            "time: 118 ms (started: 2021-06-19 17:59:18 +00:00)\n"
          ],
          "name": "stdout"
        }
      ]
    },
    {
      "cell_type": "code",
      "metadata": {
        "colab": {
          "base_uri": "https://localhost:8080/"
        },
        "id": "4PlyW3dKGQPN",
        "outputId": "8af03317-b7bc-42d1-cd97-d7e0a6ee1575"
      },
      "source": [
        "from bing_image_downloader import downloader\n",
        "downloader.download(\"cricket ground\",limit=60,output_dir='datasets',adult_filter_off='True')"
      ],
      "execution_count": 9,
      "outputs": [
        {
          "output_type": "stream",
          "text": [
            "[%] Downloading Images to /content/datasets/cricket ground\n",
            "\n",
            "\n",
            "[!!]Indexing page: 1\n",
            "\n",
            "[%] Indexed 60 Images on Page 1.\n",
            "\n",
            "===============================================\n",
            "\n",
            "[%] Downloading Image #1 from https://i.pinimg.com/originals/cb/35/8d/cb358dcf2849ecb516fc1af424f49b18.jpg\n",
            "[%] File Downloaded !\n",
            "\n",
            "[%] Downloading Image #2 from https://michaeljones.co.uk/mj-content/uploads/2020/09/showcase04-1024x720.jpg\n",
            "[%] File Downloaded !\n",
            "\n",
            "[%] Downloading Image #3 from https://i.pinimg.com/736x/ff/65/e6/ff65e6a074f6862bb3446005f740799f--true-facts-about-cricket.jpg\n",
            "[%] File Downloaded !\n",
            "\n",
            "[%] Downloading Image #4 from https://i.pinimg.com/originals/6a/cd/53/6acd530897beda786a2d56e2044ef5d2.jpg\n",
            "[%] File Downloaded !\n",
            "\n",
            "[%] Downloading Image #5 from https://upload.wikimedia.org/wikipedia/commons/thumb/2/22/Ventnor_Cricket_Ground.JPG/800px-Ventnor_Cricket_Ground.JPG\n",
            "[%] File Downloaded !\n",
            "\n",
            "[%] Downloading Image #6 from https://upload.wikimedia.org/wikipedia/commons/4/4c/Newclose_County_Cricket_Ground.JPG\n",
            "[%] File Downloaded !\n",
            "\n",
            "[%] Downloading Image #7 from http://cdown.edu.jm/eLibrary_Jamaica_2019/wikipedia-schools-3.0.1/images/807/80799.jpg\n",
            "[%] File Downloaded !\n",
            "\n",
            "[%] Downloading Image #8 from https://static.independent.co.uk/s3fs-public/thumbnails/image/2017/11/02/12/rwanda-2.jpg?width=982&amp;height=726&amp;auto=webp&amp;quality=75\n",
            "[%] File Downloaded !\n",
            "\n",
            "[%] Downloading Image #9 from https://www.cricketgraph.com/wp-content/uploads/2016/11/Chereshwar-Cricket-Ground-Trombay-9.jpg\n",
            "[%] File Downloaded !\n",
            "\n",
            "[%] Downloading Image #10 from http://worldkings.org/userfiles/upload/images/modules/news/2019/10/25/0_melbourne-2.jpg\n",
            "[%] File Downloaded !\n",
            "\n",
            "[%] Downloading Image #11 from https://i.pinimg.com/originals/d6/03/f1/d603f1b5e414fd1695a80609933b2860.jpg\n",
            "[%] File Downloaded !\n",
            "\n",
            "[%] Downloading Image #12 from https://turfmate.com.au/wp-content/uploads/2019/08/scg.jpg\n",
            "[%] File Downloaded !\n",
            "\n",
            "[%] Downloading Image #13 from https://cdn.newsapi.com.au/image/v1/816921ded926bd142c60cbb95e71328a?width=1024\n",
            "[%] File Downloaded !\n",
            "\n",
            "[%] Downloading Image #14 from http://static.sportskeeda.com/wp-content/uploads/2013/12/mcg-2045500-1024x576.jpg\n",
            "[Error]Invalid image, not saving http://static.sportskeeda.com/wp-content/uploads/2013/12/mcg-2045500-1024x576.jpg\n",
            "\n",
            "[!] Issue getting: http://static.sportskeeda.com/wp-content/uploads/2013/12/mcg-2045500-1024x576.jpg\n",
            "[!] Error:: Invalid image, not saving http://static.sportskeeda.com/wp-content/uploads/2013/12/mcg-2045500-1024x576.jpg\n",
            "\n",
            "[%] Downloading Image #14 from https://sofianaaustralia.com/wp-content/uploads/2019/07/cricket-ground-melbourne-930x621.jpg\n",
            "[%] File Downloaded !\n",
            "\n",
            "[%] Downloading Image #15 from https://www.cricketcountry.com/wp-content/uploads/2014/12/A-general-view-of-play-during-day-one-of-the-Second-Test-match-between-Australia-and-Sri-Lanka-at-the-Melbourne-Cricket-Ground-on-December.jpg\n",
            "[%] File Downloaded !\n",
            "\n",
            "[%] Downloading Image #16 from https://www.wheretraveler.com/sites/default/files/styles/wt17_slideshow_large/public/2016_afl_grand_final_at_mcg.jpg?itok=kOTk-uZa&amp;timestamp=1535948643\n",
            "[%] File Downloaded !\n",
            "\n",
            "[%] Downloading Image #17 from https://www.cricketgraph.com/wp-content/uploads/2019/12/featured-image.jpg\n",
            "[%] File Downloaded !\n",
            "\n",
            "[%] Downloading Image #18 from http://upload.wikimedia.org/wikipedia/commons/7/7f/Challow_%26_Childrey_cricket_ground.jpg\n",
            "[%] File Downloaded !\n",
            "\n",
            "[%] Downloading Image #19 from https://timesofindia.indiatimes.com/photo/69051542.cms\n",
            "[%] File Downloaded !\n",
            "\n",
            "[%] Downloading Image #20 from https://media.gqindia.com/wp-content/uploads/2017/04/gq-india-Lords_Cricket_Ground.jpg\n",
            "[%] File Downloaded !\n",
            "\n",
            "[%] Downloading Image #21 from https://www.tripjohn.com/car-rental-blogs/wp-content/uploads/2018/11/Sharjah-Cricket-Ground-2.png\n",
            "[%] File Downloaded !\n",
            "\n",
            "[%] Downloading Image #22 from https://cdn.vox-cdn.com/thumbor/lpJY2jcD49Xsbljl0l1lUbFFRxI=/31x0:3968x2625/1200x800/filters:focal(31x0:3968x2625)/cdn.vox-cdn.com/uploads/chorus_image/image/14669459/169890629.0.jpg\n",
            "[%] File Downloaded !\n",
            "\n",
            "[%] Downloading Image #23 from https://www.burohappold.com/wp-content/uploads/2019/08/Lords_00_MCC.jpg\n",
            "[%] File Downloaded !\n",
            "\n",
            "[%] Downloading Image #24 from http://jonovernon-powell.com/wp-content/uploads/2013/12/mcg-west-stad-copyrght-noma.jpg\n",
            "[%] File Downloaded !\n",
            "\n",
            "[%] Downloading Image #25 from http://2.bp.blogspot.com/-HDmphbJOuGo/T4nFOpdpY2I/AAAAAAAAFFo/S_75yoyv5jE/s1600/Highest-Cricket-Ground-of-World-India+CHAIL.jpg\n",
            "[%] File Downloaded !\n",
            "\n",
            "[%] Downloading Image #26 from https://www.alifewithoutlimits.com.au/wp-content/uploads/2015/08/mcg.jpg\n",
            "[%] File Downloaded !\n",
            "\n",
            "[%] Downloading Image #27 from http://img.grouponcdn.com/deal/beTMKSgGHTYznAt5sr4R/XB-700x420/v1/c700x420.jpg\n",
            "[%] File Downloaded !\n",
            "\n",
            "[%] Downloading Image #28 from https://i.pinimg.com/originals/03/60/f6/0360f614bfbf95934dc19222f5e58016.jpg\n",
            "[%] File Downloaded !\n",
            "\n",
            "[%] Downloading Image #29 from https://live.staticflickr.com/6005/5946629114_b6f554bd86.jpg\n",
            "[%] File Downloaded !\n",
            "\n",
            "[%] Downloading Image #30 from https://www.gwsportsapp.in/media/ground-images/gallery/MC45NDEwMzEwMCAxNTEzMjkxODIw.jpeg\n",
            "[%] File Downloaded !\n",
            "\n",
            "[%] Downloading Image #31 from https://dynamicmedia.zuza.com/zz/m/original_/e/6/e66aceaa-0af7-43bb-922f-73e70c738607/6f1787094755b0a4227efda7e769_Gallery.jpeg\n",
            "[%] File Downloaded !\n",
            "\n",
            "[%] Downloading Image #32 from http://worldkings.org/Userfiles/Upload/images/melbourne.jpg\n",
            "[%] File Downloaded !\n",
            "\n",
            "[%] Downloading Image #33 from https://www.travelmanagers.com.au/wp-content/uploads/2012/11/AdobeStock_360070839_Melbourne-Cricket-Ground_Editorial-Use-Only_750x500.jpg\n",
            "[%] File Downloaded !\n",
            "\n",
            "[%] Downloading Image #34 from https://cdn.newsapi.com.au/image/v1/1bb82294c909165cf0b35f37702e91a6?width=1024\n",
            "[%] File Downloaded !\n",
            "\n",
            "[%] Downloading Image #35 from https://www.gwsportsapp.in/media/ground-images/gallery/MC42NDI0OTYwMCAxNTEzMTk5Njk0.jpeg\n",
            "[%] File Downloaded !\n",
            "\n",
            "[%] Downloading Image #36 from https://i.dailymail.co.uk/1s/2019/07/05/14/15674664-7217059-image-a-86_1562334401494.jpg\n",
            "[%] File Downloaded !\n",
            "\n",
            "[%] Downloading Image #37 from https://www.treehugger.com/thmb/Za37HiOQoy7qoAE951qTq2IYroQ=/4320x3240/filters:no_upscale():max_bytes(150000):strip_icc()/__opt__aboutcom__coeus__resources__content_migration__mnn__images__2018__10__Durham_County_Riverside_Cricket_Ground-78e7387c825b45fdb6452a71ca6c6ac5.jpg\n",
            "[%] File Downloaded !\n",
            "\n",
            "[%] Downloading Image #38 from https://im.rediff.com/cricket/2020/dec/27rahane1.jpg\n",
            "[%] File Downloaded !\n",
            "\n",
            "[%] Downloading Image #39 from https://www.travelmanagers.com.au/wp-content/uploads/2012/11/Cricket-Bat-Batsman-Sport-Ground-Field.jpg\n",
            "[%] File Downloaded !\n",
            "\n",
            "[%] Downloading Image #40 from https://i.pinimg.com/474x/68/bc/c5/68bcc538ce9f74b07a135dd98f9ac0c3--cities-in-new-zealand-seating-capacity.jpg\n",
            "[%] File Downloaded !\n",
            "\n",
            "[%] Downloading Image #41 from https://i.pinimg.com/originals/45/18/ea/4518eaead199563006602b4c96117a60.jpg\n",
            "[%] File Downloaded !\n",
            "\n",
            "[%] Downloading Image #42 from https://upload.wikimedia.org/wikipedia/commons/8/8b/Lord's_Cricket_Ground_Grand_Stand.jpg\n",
            "[%] File Downloaded !\n",
            "\n",
            "[%] Downloading Image #43 from https://img.traveltriangle.com/attachments/pictures/897861/original/melbourne-cricket-ground-tour.jpg?tr=w-1291,h-332\n",
            "[Error]Invalid image, not saving https://img.traveltriangle.com/attachments/pictures/897861/original/melbourne-cricket-ground-tour.jpg?tr=w-1291,h-332\n",
            "\n",
            "[!] Issue getting: https://img.traveltriangle.com/attachments/pictures/897861/original/melbourne-cricket-ground-tour.jpg?tr=w-1291,h-332\n",
            "[!] Error:: Invalid image, not saving https://img.traveltriangle.com/attachments/pictures/897861/original/melbourne-cricket-ground-tour.jpg?tr=w-1291,h-332\n",
            "\n",
            "[%] Downloading Image #43 from https://www.chorleycc.co.uk/wp-content/uploads/2017/12/57LORDS0313A.jpg\n",
            "[Error]Invalid image, not saving https://www.chorleycc.co.uk/wp-content/uploads/2017/12/57LORDS0313A.jpg\n",
            "\n",
            "[!] Issue getting: https://www.chorleycc.co.uk/wp-content/uploads/2017/12/57LORDS0313A.jpg\n",
            "[!] Error:: Invalid image, not saving https://www.chorleycc.co.uk/wp-content/uploads/2017/12/57LORDS0313A.jpg\n",
            "\n",
            "[%] Downloading Image #43 from https://staticg.sportskeeda.com/editor/2018/06/b6d84-1528308696-800.jpg\n",
            "[Error]Invalid image, not saving https://staticg.sportskeeda.com/editor/2018/06/b6d84-1528308696-800.jpg\n",
            "\n",
            "[!] Issue getting: https://staticg.sportskeeda.com/editor/2018/06/b6d84-1528308696-800.jpg\n",
            "[!] Error:: Invalid image, not saving https://staticg.sportskeeda.com/editor/2018/06/b6d84-1528308696-800.jpg\n",
            "\n",
            "[%] Downloading Image #43 from https://data1.ibtimes.co.in/en/full/598343/cricket.jpg?h=450&amp;l=50&amp;t=40\n",
            "[%] File Downloaded !\n",
            "\n",
            "[%] Downloading Image #44 from https://michaeljones.co.uk/mj-content/uploads/2020/09/showcase01.jpg\n",
            "[%] File Downloaded !\n",
            "\n",
            "[%] Downloading Image #45 from https://i.pinimg.com/originals/34/d1/5d/34d15d9b39712e3ba458e9118f0c099f.jpg\n",
            "[%] File Downloaded !\n",
            "\n",
            "[%] Downloading Image #46 from http://www.brisbaneinsects.com/brisbane_crickets/images/DSC_1037.jpg\n",
            "[%] File Downloaded !\n",
            "\n",
            "[%] Downloading Image #47 from https://qph.fs.quoracdn.net/main-qimg-e8d9d206d5aa5d43d706e8f2b7f4e42d\n",
            "[%] File Downloaded !\n",
            "\n",
            "[%] Downloading Image #48 from https://fittravelling.com/wp-content/uploads/2019/03/stadium-580364_1920-1536x864.jpg\n",
            "[%] File Downloaded !\n",
            "\n",
            "[%] Downloading Image #49 from https://usercontent1.hubstatic.com/13670398_f520.jpg\n",
            "[%] File Downloaded !\n",
            "\n",
            "[%] Downloading Image #50 from https://i.ebayimg.com/images/g/JfcAAOSwB-1Yv8S6/s-l600.jpg\n",
            "[%] File Downloaded !\n",
            "\n",
            "[%] Downloading Image #51 from https://cdn.newsapi.com.au/image/v1/6a4475990a28212a95bd26ae82e38e34?width=650\n",
            "[%] File Downloaded !\n",
            "\n",
            "[%] Downloading Image #52 from http://www.bacalao.co/wp-content/uploads/2016/02/20160227190536.jpg\n",
            "[!] Issue getting: http://www.bacalao.co/wp-content/uploads/2016/02/20160227190536.jpg\n",
            "[!] Error:: HTTP Error 404: Not Found\n",
            "[%] Downloading Image #52 from https://i.ebayimg.com/images/g/hEEAAOSwIwtfAZWZ/s-l400.jpg\n",
            "[%] File Downloaded !\n",
            "\n",
            "[%] Downloading Image #53 from https://trulyexperiences.com/blog/wp-content/uploads/2015/06/Lords-The-Perfect-Ground-for-a-Cricket-Experience.jpg\n",
            "[%] File Downloaded !\n",
            "\n",
            "[%] Downloading Image #54 from http://www.bacalao.co/wp-content/uploads/2016/02/20160227190505.jpg\n",
            "[!] Issue getting: http://www.bacalao.co/wp-content/uploads/2016/02/20160227190505.jpg\n",
            "[!] Error:: HTTP Error 404: Not Found\n",
            "[%] Downloading Image #54 from https://i0.wp.com/www.cricketgraph.com/wp-content/uploads/2016/11/2-3.jpg?resize=618%2C430&amp;ssl=1\n",
            "[%] File Downloaded !\n",
            "\n",
            "\n",
            "\n",
            "[!!]Indexing page: 2\n",
            "\n",
            "[%] Indexed 35 Images on Page 2.\n",
            "\n",
            "===============================================\n",
            "\n",
            "[%] Downloading Image #55 from https://i.pinimg.com/originals/cb/35/8d/cb358dcf2849ecb516fc1af424f49b18.jpg\n",
            "[%] File Downloaded !\n",
            "\n",
            "[%] Downloading Image #56 from https://michaeljones.co.uk/mj-content/uploads/2020/09/showcase04-1024x720.jpg\n",
            "[%] File Downloaded !\n",
            "\n",
            "[%] Downloading Image #57 from https://i.pinimg.com/736x/ff/65/e6/ff65e6a074f6862bb3446005f740799f--true-facts-about-cricket.jpg\n",
            "[%] File Downloaded !\n",
            "\n",
            "[%] Downloading Image #58 from https://i.pinimg.com/originals/6a/cd/53/6acd530897beda786a2d56e2044ef5d2.jpg\n",
            "[%] File Downloaded !\n",
            "\n",
            "[%] Downloading Image #59 from https://upload.wikimedia.org/wikipedia/commons/thumb/2/22/Ventnor_Cricket_Ground.JPG/800px-Ventnor_Cricket_Ground.JPG\n",
            "[%] File Downloaded !\n",
            "\n",
            "[%] Downloading Image #60 from https://upload.wikimedia.org/wikipedia/commons/4/4c/Newclose_County_Cricket_Ground.JPG\n",
            "[%] File Downloaded !\n",
            "\n",
            "\n",
            "\n",
            "[%] Done. Downloaded 60 images.\n",
            "===============================================\n",
            "\n",
            "Please show your support here\n",
            "https://www.buymeacoffee.com/gurugaurav\n",
            "\n",
            "===============================================\n",
            "\n",
            "time: 45.6 s (started: 2021-06-19 17:59:18 +00:00)\n"
          ],
          "name": "stdout"
        }
      ]
    },
    {
      "cell_type": "code",
      "metadata": {
        "colab": {
          "base_uri": "https://localhost:8080/"
        },
        "id": "X7CnLTGAIRZR",
        "outputId": "cdec4abb-99f0-48eb-cd7d-bb0af8541c14"
      },
      "source": [
        "downloader.download(\"swimming pool\",limit=60,output_dir='datasets',adult_filter_off='True')"
      ],
      "execution_count": 10,
      "outputs": [
        {
          "output_type": "stream",
          "text": [
            "[%] Downloading Images to /content/datasets/swimming pool\n",
            "\n",
            "\n",
            "[!!]Indexing page: 1\n",
            "\n",
            "[%] Indexed 60 Images on Page 1.\n",
            "\n",
            "===============================================\n",
            "\n",
            "[%] Downloading Image #1 from https://i.pinimg.com/originals/ab/06/9a/ab069a7fe0411c4311d326cf08068f1b.jpg\n",
            "[%] File Downloaded !\n",
            "\n",
            "[%] Downloading Image #2 from https://i.pinimg.com/736x/94/93/34/949334b9acaa3df266fc1199cd8d34f1.jpg\n",
            "[%] File Downloaded !\n",
            "\n",
            "[%] Downloading Image #3 from https://i.pinimg.com/originals/47/04/7d/47047de296211ad3a03ad0e3b02d822d.jpg\n",
            "[%] File Downloaded !\n",
            "\n",
            "[%] Downloading Image #4 from https://published-assets.ari-build.com/Content/Published/Site/26240/hero/pool5.jpg\n",
            "[%] File Downloaded !\n",
            "\n",
            "[%] Downloading Image #5 from https://i.pinimg.com/originals/3d/bc/5c/3dbc5c80e3654290d6e50880755e91b8.jpg\n",
            "[%] File Downloaded !\n",
            "\n",
            "[%] Downloading Image #6 from https://drewnowskipools.com/wp-content/uploads/2018/11/7G-True-L-Inground-Pool-Middletown-CT-800x500.jpg\n",
            "[%] File Downloaded !\n",
            "\n",
            "[%] Downloading Image #7 from https://published-assets.ari-build.com/Content/Published/Site/26240/hero/pool3.jpg\n",
            "[%] File Downloaded !\n",
            "\n",
            "[%] Downloading Image #8 from https://published-assets.ari-build.com/Content/Published/Site/26240/lennon - resized-2.jpg\n",
            "[!] Issue getting: https://published-assets.ari-build.com/Content/Published/Site/26240/lennon - resized-2.jpg\n",
            "[!] Error:: URL can't contain control characters. '/Content/Published/Site/26240/lennon - resized-2.jpg' (found at least ' ')\n",
            "[%] Downloading Image #8 from http://www.bellpool.com/wp-content/uploads/2017/06/grecianlshape_1-1024x576.png\n",
            "[%] File Downloaded !\n",
            "\n",
            "[%] Downloading Image #9 from https://published-assets.ari-build.com/Content/Published/Site/26240/images/heroshot-4.jpg\n",
            "[%] File Downloaded !\n",
            "\n",
            "[%] Downloading Image #10 from https://published-assets.ari-build.com/Content/Published/Site/26240/hero/pool4.jpg\n",
            "[%] File Downloaded !\n",
            "\n",
            "[%] Downloading Image #11 from https://c1.staticflickr.com/7/6180/6192517242_5d4c68193e_b.jpg\n",
            "[%] File Downloaded !\n",
            "\n",
            "[%] Downloading Image #12 from https://published-assets.ari-build.com/Content/Published/Site/26240/images/heroshot-1.jpg\n",
            "[%] File Downloaded !\n",
            "\n",
            "[%] Downloading Image #13 from https://published-assets.ari-build.com/Content/Published/Site/26240/images/heroshot-2.jpg\n",
            "[%] File Downloaded !\n",
            "\n",
            "[%] Downloading Image #14 from https://drewnowskipools.com/wp-content/uploads/2018/11/7A-True-L-Inground-Pool-Middletown-CT.jpg\n",
            "[%] File Downloaded !\n",
            "\n",
            "[%] Downloading Image #15 from https://i.pinimg.com/originals/d2/56/6b/d2566b210cc8a8836d7a19f7ad233adf.jpg\n",
            "[%] File Downloaded !\n",
            "\n",
            "[%] Downloading Image #16 from https://i.pinimg.com/originals/8c/0c/f0/8c0cf01856474b1b0d4d18230afd8765.jpg\n",
            "[%] File Downloaded !\n",
            "\n",
            "[%] Downloading Image #17 from https://published-assets.ari-build.com/Content/Published/Site/26240/images/heroshot-5.jpg\n",
            "[%] File Downloaded !\n",
            "\n",
            "[%] Downloading Image #18 from https://i.pinimg.com/originals/40/0e/a4/400ea44cdc2bc52ee7ea91180a49c33b.jpg\n",
            "[%] File Downloaded !\n",
            "\n",
            "[%] Downloading Image #19 from https://www.familypoolfun.com/images/pools/endurapool/nb5340_bg.jpg\n",
            "[%] File Downloaded !\n",
            "\n",
            "[%] Downloading Image #20 from https://poolwarehouse.com/wp-content/uploads/2016/01/gal_img_23.jpg\n",
            "[!] Issue getting: https://poolwarehouse.com/wp-content/uploads/2016/01/gal_img_23.jpg\n",
            "[!] Error:: HTTP Error 503: Service Temporarily Unavailable\n",
            "[%] Downloading Image #20 from https://i.pinimg.com/originals/73/92/97/7392971dfff50ea370ad0ffb5b4277ce.jpg\n",
            "[%] File Downloaded !\n",
            "\n",
            "[%] Downloading Image #21 from https://86qkca4ol0-flywheel.netdna-ssl.com/wp-content/uploads/2018/11/1A-True-L-Roman-Inground-Pool-Suffield-CT.jpg\n",
            "[%] File Downloaded !\n",
            "\n",
            "[%] Downloading Image #22 from https://86qkca4ol0-flywheel.netdna-ssl.com/wp-content/uploads/2018/11/5B-True-L-Roman-Inground-Pool-Suffield-CT.jpg\n",
            "[%] File Downloaded !\n",
            "\n",
            "[%] Downloading Image #23 from https://86qkca4ol0-flywheel.netdna-ssl.com/wp-content/uploads/2018/11/4A-True-L-Inground-Pool-Suffield-CT.jpg\n",
            "[%] File Downloaded !\n",
            "\n",
            "[%] Downloading Image #24 from https://i.pinimg.com/originals/34/dd/49/34dd49d4961b38b1d57f1ba1a90ecd9f.jpg\n",
            "[%] File Downloaded !\n",
            "\n",
            "[%] Downloading Image #25 from http://poolsidepros.com/wp-content/uploads/2016/11/True-L-Pool-Design.jpg\n",
            "[%] File Downloaded !\n",
            "\n",
            "[%] Downloading Image #26 from https://truebluepools.com/wp-content/uploads/2014/10/geometric-custom-swimming-pool-design-scottsdale-arizona.jpg\n",
            "[%] File Downloaded !\n",
            "\n",
            "[%] Downloading Image #27 from https://published-assets.ari-build.com/Content/Published/Site/26240/hero/pool6.jpg\n",
            "[%] File Downloaded !\n",
            "\n",
            "[%] Downloading Image #28 from https://www.truebluepools.com/wp-content/uploads/2015/05/mesa-custom-pool-builders-true-blue-pools.jpg\n",
            "[%] File Downloaded !\n",
            "\n",
            "[%] Downloading Image #29 from https://86qkca4ol0-flywheel.netdna-ssl.com/wp-content/uploads/2018/11/7D-True-L-Inground-Pool-Middletown-CT.jpg\n",
            "[%] File Downloaded !\n",
            "\n",
            "[%] Downloading Image #30 from https://i.pinimg.com/originals/1c/78/fa/1c78fa88860f859a0fde1f0b676e5202.jpg\n",
            "[%] File Downloaded !\n",
            "\n",
            "[%] Downloading Image #31 from https://www.julianospools.com/wp-content/uploads/2018/11/5A-True-L-Roman-Inground-Pool-Suffield-CT.jpg\n",
            "[%] File Downloaded !\n",
            "\n",
            "[%] Downloading Image #32 from http://gossmanpools.com/images/installation/TrueL/TrueL-8.jpg\n",
            "[%] File Downloaded !\n",
            "\n",
            "[%] Downloading Image #33 from https://i.pinimg.com/originals/23/bb/e2/23bbe26350476318d4ba08cda8ecf81a.jpg\n",
            "[%] File Downloaded !\n",
            "\n",
            "[%] Downloading Image #34 from https://www.truebluepools.com/wp-content/uploads/2016/11/true-blue-pools-az-custom-pool-at-night-with-lights-tempe-az.jpg\n",
            "[%] File Downloaded !\n",
            "\n",
            "[%] Downloading Image #35 from https://86qkca4ol0-flywheel.netdna-ssl.com/wp-content/uploads/2018/09/True-L-Inground-Pool.jpg\n",
            "[%] File Downloaded !\n",
            "\n",
            "[%] Downloading Image #36 from http://i.ytimg.com/vi/jOtlYrN7ugg/maxresdefault.jpg\n",
            "[%] File Downloaded !\n",
            "\n",
            "[%] Downloading Image #37 from https://designingidea.com/wp-content/uploads/2018/05/l-shaped-swimming-pool-design.jpg\n",
            "[%] File Downloaded !\n",
            "\n",
            "[%] Downloading Image #38 from https://blog.lathampool.com/hs-fs/hubfs/shutterstock_408784075.jpg?width=724&amp;name=shutterstock_408784075.jpg\n",
            "[%] File Downloaded !\n",
            "\n",
            "[%] Downloading Image #39 from https://truebluepoolslex.com/wp-content/uploads/2017/03/True-Blue-Pools-Gothic-Shaped-Vinyl-Pool-Liner-Installation.jpg\n",
            "[%] File Downloaded !\n",
            "\n",
            "[%] Downloading Image #40 from http://www.mcewenindustries.com/wp-content/uploads/2019/01/pool_shapes_true_ell.jpg\n",
            "[%] File Downloaded !\n",
            "\n",
            "[%] Downloading Image #41 from https://i.pinimg.com/originals/21/7e/45/217e456082178aa97ced4788f135be82.jpg\n",
            "[%] File Downloaded !\n",
            "\n",
            "[%] Downloading Image #42 from https://blog.lathampool.com/hs-fs/hubfs/Advance_Content_Fiberglass/Strange_but_true_pools/Strange_but_True_Pools_eBook.png?width=706&amp;name=Strange_but_True_Pools_eBook.png\n",
            "[%] File Downloaded !\n",
            "\n",
            "[%] Downloading Image #43 from https://truebluepools.com/wp-content/uploads/2020/03/The-Pros-and-Cons-of-a-Swimming-Pool-AZ.png\n",
            "[%] File Downloaded !\n",
            "\n",
            "[%] Downloading Image #44 from https://www.truephotography.com/blog/wp-content/uploads/2012/06/Underwater-Engagement-Shoot-True-Photography-Weddings1.jpg\n",
            "[%] File Downloaded !\n",
            "\n",
            "[%] Downloading Image #45 from https://a57.foxnews.com/static.foxnews.com/foxnews.com/content/uploads/2020/05/931/524/swimming-pool-jump.jpg?ve=1&amp;tl=1\n",
            "[%] File Downloaded !\n",
            "\n",
            "[%] Downloading Image #46 from https://i.pinimg.com/originals/86/59/08/865908c6eb400f874ce9133d4ed7f4cb.png\n",
            "[%] File Downloaded !\n",
            "\n",
            "[%] Downloading Image #47 from https://i1.wp.com/www.swimmersdaily.com/wp-content/uploads/2017/09/5-disturbing-true-swimming-pool.jpg?fit=1280%2C720&amp;ssl=1\n",
            "[%] File Downloaded !\n",
            "\n",
            "[%] Downloading Image #48 from https://5.imimg.com/data5/EV/MV/OY/SELLER-24252989/true-circle-portable-swimming-pool-250x250.png\n",
            "[%] File Downloaded !\n",
            "\n",
            "[%] Downloading Image #49 from https://www.poolwarehouse.com/wp-content/uploads/2012/11/True-L-Inground-Pool-Kit-1-1024x256.jpg\n",
            "[!] Issue getting: https://www.poolwarehouse.com/wp-content/uploads/2012/11/True-L-Inground-Pool-Kit-1-1024x256.jpg\n",
            "[!] Error:: HTTP Error 503: Service Temporarily Unavailable\n",
            "[%] Downloading Image #49 from http://www.crismatec.com/python/po/swimming-pool-designs-with-waterfalls-on-custom-japanese-natural_home-elements-and-style.jpg\n",
            "[%] File Downloaded !\n",
            "\n",
            "[%] Downloading Image #50 from http://prettyinspiration.com/wp-content/uploads/2017/11/Awesome-indoor-swimming-pool-ideas-10.jpg\n",
            "[%] File Downloaded !\n",
            "\n",
            "[%] Downloading Image #51 from https://poolwarehouse.com/wp-content/uploads/2019/02/L-shaped-swimming-pool-kit.jpg\n",
            "[!] Issue getting: https://poolwarehouse.com/wp-content/uploads/2019/02/L-shaped-swimming-pool-kit.jpg\n",
            "[!] Error:: HTTP Error 503: Service Temporarily Unavailable\n",
            "[%] Downloading Image #51 from https://i.pinimg.com/originals/64/61/93/646193406b30644b14dfc5fdd8369dca.jpg\n",
            "[%] File Downloaded !\n",
            "\n",
            "[%] Downloading Image #52 from https://i.pinimg.com/originals/b2/57/eb/b257eb9efcaa049b5ca9092f2c33f41c.jpg\n",
            "[%] File Downloaded !\n",
            "\n",
            "[%] Downloading Image #53 from https://truebluepoolslex.com/wp-content/uploads/2018/01/Lounger-Fiberglass-Swimming-Pool.jpg\n",
            "[%] File Downloaded !\n",
            "\n",
            "[%] Downloading Image #54 from https://i.pinimg.com/originals/4b/cd/32/4bcd3253ffcfc4db24f6a304968d4fd3.jpg\n",
            "[%] File Downloaded !\n",
            "\n",
            "[%] Downloading Image #55 from https://cdn2.bigcommerce.com/server3100/24bb0/products/180/images/122/18x43x28truel__77190__31848.1302063779.220.220.jpg?c=2\n",
            "[%] File Downloaded !\n",
            "\n",
            "[%] Downloading Image #56 from https://i.pinimg.com/originals/af/2b/66/af2b66975d4dcb989d978e2595a9770c.jpg\n",
            "[%] File Downloaded !\n",
            "\n",
            "\n",
            "\n",
            "[!!]Indexing page: 2\n",
            "\n",
            "[%] Indexed 35 Images on Page 2.\n",
            "\n",
            "===============================================\n",
            "\n",
            "[%] Downloading Image #57 from https://i.pinimg.com/originals/ab/06/9a/ab069a7fe0411c4311d326cf08068f1b.jpg\n",
            "[%] File Downloaded !\n",
            "\n",
            "[%] Downloading Image #58 from https://i.pinimg.com/736x/94/93/34/949334b9acaa3df266fc1199cd8d34f1.jpg\n",
            "[%] File Downloaded !\n",
            "\n",
            "[%] Downloading Image #59 from https://published-assets.ari-build.com/Content/Published/Site/26240/hero/pool5.jpg\n",
            "[%] File Downloaded !\n",
            "\n",
            "[%] Downloading Image #60 from https://i.pinimg.com/originals/3d/bc/5c/3dbc5c80e3654290d6e50880755e91b8.jpg\n",
            "[%] File Downloaded !\n",
            "\n",
            "\n",
            "\n",
            "[%] Done. Downloaded 60 images.\n",
            "===============================================\n",
            "\n",
            "Please show your support here\n",
            "https://www.buymeacoffee.com/gurugaurav\n",
            "\n",
            "===============================================\n",
            "\n",
            "time: 54.5 s (started: 2021-06-19 18:00:04 +00:00)\n"
          ],
          "name": "stdout"
        }
      ]
    },
    {
      "cell_type": "code",
      "metadata": {
        "colab": {
          "base_uri": "https://localhost:8080/"
        },
        "id": "OA0dcLCZIzOB",
        "outputId": "142fbfaa-e9d3-4971-974c-c072d753ede8"
      },
      "source": [
        "import os\n",
        "import matplotlib.pyplot as plt\n",
        "import numpy as np\n",
        "from skimage.io import imread\n",
        "from skimage.transform import resize"
      ],
      "execution_count": 11,
      "outputs": [
        {
          "output_type": "stream",
          "text": [
            "time: 89.7 ms (started: 2021-06-19 18:00:58 +00:00)\n"
          ],
          "name": "stdout"
        }
      ]
    },
    {
      "cell_type": "code",
      "metadata": {
        "colab": {
          "base_uri": "https://localhost:8080/"
        },
        "id": "ifGIogoIJZh_",
        "outputId": "9839480d-e7b3-4975-ecce-63febefef64e"
      },
      "source": [
        "target=[]\n",
        "datasets=[]\n",
        "flat_data=[]"
      ],
      "execution_count": 12,
      "outputs": [
        {
          "output_type": "stream",
          "text": [
            "time: 2.28 ms (started: 2021-06-19 18:00:59 +00:00)\n"
          ],
          "name": "stdout"
        }
      ]
    },
    {
      "cell_type": "code",
      "metadata": {
        "colab": {
          "base_uri": "https://localhost:8080/"
        },
        "id": "DAZ0KAh7KGeb",
        "outputId": "0c342fb1-06fd-4643-895b-2a78dec763c8"
      },
      "source": [
        "DATADIR='/content/datasets'\n",
        "CATEGORIES=['cricket ground','swimming pool']\n",
        "\n",
        "for i in CATEGORIES:\n",
        "    class_num=CATEGORIES.index(i)\n",
        "    path=os.path.join(DATADIR,i)\n",
        "    for j in os.listdir(path):\n",
        "       img_array=imread(os.path.join(path,j))\n",
        "       img_resized=resize(img_array,(150,150,3))\n",
        "       flat_data.append(img_resized.flatten())\n",
        "       datasets.append(img_resized)\n",
        "       target.append(class_num)\n",
        "flat_data=np.array(flat_data)\n",
        "target=np.array(target)\n",
        "datasets=np.array(datasets)       "
      ],
      "execution_count": 13,
      "outputs": [
        {
          "output_type": "stream",
          "text": [
            "time: 57.6 s (started: 2021-06-19 18:00:59 +00:00)\n"
          ],
          "name": "stdout"
        }
      ]
    },
    {
      "cell_type": "code",
      "metadata": {
        "colab": {
          "base_uri": "https://localhost:8080/"
        },
        "id": "NdOJ-ZVyOyPd",
        "outputId": "aa4e7720-d1a1-4834-cb6b-869147199074"
      },
      "source": [
        "from sklearn.model_selection import train_test_split\n",
        "x_train,x_test,y_train,y_test=train_test_split(flat_data,target,test_size=0.3,random_state=100)"
      ],
      "execution_count": 14,
      "outputs": [
        {
          "output_type": "stream",
          "text": [
            "time: 24.3 ms (started: 2021-06-19 18:01:56 +00:00)\n"
          ],
          "name": "stdout"
        }
      ]
    },
    {
      "cell_type": "code",
      "metadata": {
        "colab": {
          "base_uri": "https://localhost:8080/"
        },
        "id": "IoVvNVl9QalA",
        "outputId": "990c9863-f817-45b1-8a4b-2de749acd452"
      },
      "source": [
        "from sklearn.model_selection import GridSearchCV\n",
        "from sklearn import svm\n",
        "param_grid=[\n",
        "            {'C':[1,10,100,1000],'kernel':['linear']},\n",
        "            {'C':[1,10,100,1000],'gamma':[0.001,0.0001],'kernel':['rbf']},\n",
        "]\n",
        "svc=svm.SVC(probability=True)\n",
        "clf=GridSearchCV(svc,param_grid)\n",
        "clf.fit(x_train,y_train)"
      ],
      "execution_count": 15,
      "outputs": [
        {
          "output_type": "execute_result",
          "data": {
            "text/plain": [
              "GridSearchCV(cv=None, error_score=nan,\n",
              "             estimator=SVC(C=1.0, break_ties=False, cache_size=200,\n",
              "                           class_weight=None, coef0=0.0,\n",
              "                           decision_function_shape='ovr', degree=3,\n",
              "                           gamma='scale', kernel='rbf', max_iter=-1,\n",
              "                           probability=True, random_state=None, shrinking=True,\n",
              "                           tol=0.001, verbose=False),\n",
              "             iid='deprecated', n_jobs=None,\n",
              "             param_grid=[{'C': [1, 10, 100, 1000], 'kernel': ['linear']},\n",
              "                         {'C': [1, 10, 100, 1000], 'gamma': [0.001, 0.0001],\n",
              "                          'kernel': ['rbf']}],\n",
              "             pre_dispatch='2*n_jobs', refit=True, return_train_score=False,\n",
              "             scoring=None, verbose=0)"
            ]
          },
          "metadata": {
            "tags": []
          },
          "execution_count": 15
        },
        {
          "output_type": "stream",
          "text": [
            "time: 3min 5s (started: 2021-06-19 18:01:56 +00:00)\n"
          ],
          "name": "stdout"
        }
      ]
    },
    {
      "cell_type": "code",
      "metadata": {
        "colab": {
          "base_uri": "https://localhost:8080/"
        },
        "id": "6rCGCAZNS0LI",
        "outputId": "3d6df96b-d8ad-4154-b78a-9ec9ccd803af"
      },
      "source": [
        "y_pred=clf.predict(x_test)\n",
        "y_pred"
      ],
      "execution_count": 16,
      "outputs": [
        {
          "output_type": "execute_result",
          "data": {
            "text/plain": [
              "array([1, 0, 1, 1, 1, 0, 0, 0, 1, 0, 0, 1, 0, 0, 1, 1, 1, 1, 0, 0, 0, 1,\n",
              "       1, 1, 0, 0, 1, 1, 1, 0, 0, 0, 0, 1, 1, 0, 1, 0, 0, 1, 1, 1])"
            ]
          },
          "metadata": {
            "tags": []
          },
          "execution_count": 16
        },
        {
          "output_type": "stream",
          "text": [
            "time: 324 ms (started: 2021-06-19 18:05:02 +00:00)\n"
          ],
          "name": "stdout"
        }
      ]
    },
    {
      "cell_type": "code",
      "metadata": {
        "colab": {
          "base_uri": "https://localhost:8080/"
        },
        "id": "FFYEKXOHTSsV",
        "outputId": "bc753b6d-6b84-434f-a886-a44a7d76f418"
      },
      "source": [
        "y_test"
      ],
      "execution_count": 17,
      "outputs": [
        {
          "output_type": "execute_result",
          "data": {
            "text/plain": [
              "array([1, 1, 1, 1, 1, 0, 0, 0, 1, 0, 0, 1, 0, 0, 1, 1, 1, 1, 0, 0, 0, 1,\n",
              "       1, 1, 0, 0, 1, 1, 1, 0, 0, 0, 0, 1, 1, 1, 1, 1, 0, 0, 1, 1])"
            ]
          },
          "metadata": {
            "tags": []
          },
          "execution_count": 17
        },
        {
          "output_type": "stream",
          "text": [
            "time: 4.34 ms (started: 2021-06-19 18:05:02 +00:00)\n"
          ],
          "name": "stdout"
        }
      ]
    },
    {
      "cell_type": "code",
      "metadata": {
        "colab": {
          "base_uri": "https://localhost:8080/"
        },
        "id": "-bXVTCsmTW2w",
        "outputId": "840d136d-d8dd-4b7a-e366-45cfa8304723"
      },
      "source": [
        "from sklearn.metrics import accuracy_score,confusion_matrix\n",
        "accuracy_score(y_pred,y_test)"
      ],
      "execution_count": 18,
      "outputs": [
        {
          "output_type": "execute_result",
          "data": {
            "text/plain": [
              "0.9047619047619048"
            ]
          },
          "metadata": {
            "tags": []
          },
          "execution_count": 18
        },
        {
          "output_type": "stream",
          "text": [
            "time: 5.98 ms (started: 2021-06-19 18:05:02 +00:00)\n"
          ],
          "name": "stdout"
        }
      ]
    },
    {
      "cell_type": "code",
      "metadata": {
        "colab": {
          "base_uri": "https://localhost:8080/"
        },
        "id": "qmk4VyYHT-PJ",
        "outputId": "cc75827e-6bd1-4d18-fe4a-697541a7353d"
      },
      "source": [
        "confusion_matrix(y_pred,y_test)"
      ],
      "execution_count": 19,
      "outputs": [
        {
          "output_type": "execute_result",
          "data": {
            "text/plain": [
              "array([[17,  3],\n",
              "       [ 1, 21]])"
            ]
          },
          "metadata": {
            "tags": []
          },
          "execution_count": 19
        },
        {
          "output_type": "stream",
          "text": [
            "time: 6.46 ms (started: 2021-06-19 18:05:02 +00:00)\n"
          ],
          "name": "stdout"
        }
      ]
    },
    {
      "cell_type": "code",
      "metadata": {
        "colab": {
          "base_uri": "https://localhost:8080/"
        },
        "id": "fVlUvwkgUXVc",
        "outputId": "e7cfa1ff-6635-41c3-890b-3faf2b7ddd93"
      },
      "source": [
        "import pickle\n",
        "pickle.dump(clf,open('img_model.p','wb'))#saving model in pickle file"
      ],
      "execution_count": 20,
      "outputs": [
        {
          "output_type": "stream",
          "text": [
            "time: 78.9 ms (started: 2021-06-19 18:05:02 +00:00)\n"
          ],
          "name": "stdout"
        }
      ]
    },
    {
      "cell_type": "code",
      "metadata": {
        "colab": {
          "base_uri": "https://localhost:8080/"
        },
        "id": "LQcjCCCIYGGa",
        "outputId": "0116986d-5def-433d-d0f8-92e66c049794"
      },
      "source": [
        "model=pickle.load(open('img_model.p','rb'))"
      ],
      "execution_count": 21,
      "outputs": [
        {
          "output_type": "stream",
          "text": [
            "time: 23 ms (started: 2021-06-19 18:05:02 +00:00)\n"
          ],
          "name": "stdout"
        }
      ]
    },
    {
      "cell_type": "code",
      "metadata": {
        "colab": {
          "base_uri": "https://localhost:8080/",
          "height": 336
        },
        "id": "x4aXVBEIU5gt",
        "outputId": "b2330fba-c051-4466-9811-2c5849013480"
      },
      "source": [
        "flat_data=[]\n",
        "url= input('enter your URL')\n",
        "img=imread(url)\n",
        "img_resized=resize(img,(150,150,3))\n",
        "flat_data.append(img_resized.flatten())\n",
        "flat_data=np.array(flat_data)\n",
        "print(img.shape)\n",
        "plt.imshow(img_resized)\n",
        "y_out=model.predict(flat_data)\n",
        "y_out=CATEGORIES[y_out[0]]\n",
        "print(f'PREDICTED OUTPUT:{y_out}')\n",
        "\n",
        "  \n"
      ],
      "execution_count": 22,
      "outputs": [
        {
          "output_type": "stream",
          "text": [
            "enter your URLhttps://economictimes.indiatimes.com/thumb/msid-76318134,width-1200,height-900,resizemode-4,imgsize-402949/untitled-4.jpg?from=mdr\n",
            "(900, 1200, 3)\n",
            "PREDICTED OUTPUT:swimming pool\n"
          ],
          "name": "stdout"
        },
        {
          "output_type": "display_data",
          "data": {
            "image/png": "[encoded data removed]",
            "text/plain": [
              "<Figure size 432x288 with 1 Axes>"
            ]
          },
          "metadata": {
            "tags": [],
            "needs_background": "light"
          }
        },
        {
          "output_type": "stream",
          "text": [
            "time: 59.7 s (started: 2021-06-19 18:05:02 +00:00)\n"
          ],
          "name": "stdout"
        }
      ]
    }
  ]
}